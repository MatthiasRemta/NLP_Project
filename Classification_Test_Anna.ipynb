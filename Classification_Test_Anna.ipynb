{
 "cells": [
  {
   "cell_type": "markdown",
   "metadata": {},
   "source": [
    "## Text classification"
   ]
  },
  {
   "cell_type": "code",
   "execution_count": 4,
   "metadata": {},
   "outputs": [],
   "source": [
    "import pandas as pd\n",
    "from sklearn.model_selection import train_test_split\n",
    "from sklearn.feature_extraction.text import TfidfVectorizer\n",
    "from sklearn.multioutput import MultiOutputClassifier\n",
    "from sklearn.ensemble import RandomForestClassifier\n",
    "from sklearn.metrics import classification_report"
   ]
  },
  {
   "cell_type": "code",
   "execution_count": 5,
   "metadata": {},
   "outputs": [
    {
     "data": {
      "text/html": [
       "<div>\n",
       "<style scoped>\n",
       "    .dataframe tbody tr th:only-of-type {\n",
       "        vertical-align: middle;\n",
       "    }\n",
       "\n",
       "    .dataframe tbody tr th {\n",
       "        vertical-align: top;\n",
       "    }\n",
       "\n",
       "    .dataframe thead th {\n",
       "        text-align: right;\n",
       "    }\n",
       "</style>\n",
       "<table border=\"1\" class=\"dataframe\">\n",
       "  <thead>\n",
       "    <tr style=\"text-align: right;\">\n",
       "      <th></th>\n",
       "      <th>id</th>\n",
       "      <th>text</th>\n",
       "      <th>title</th>\n",
       "      <th>genre</th>\n",
       "    </tr>\n",
       "  </thead>\n",
       "  <tbody>\n",
       "    <tr>\n",
       "      <th>0</th>\n",
       "      <td>23890098</td>\n",
       "      <td>shlykov a hardworking taxi driver and lyosha a...</td>\n",
       "      <td>Taxi Blues</td>\n",
       "      <td>['Drama', 'World cinema']</td>\n",
       "    </tr>\n",
       "    <tr>\n",
       "      <th>1</th>\n",
       "      <td>31186339</td>\n",
       "      <td>the nation of panem consists of a wealthy capi...</td>\n",
       "      <td>The Hunger Games</td>\n",
       "      <td>['Action/Adventure', 'Science Fiction', 'Actio...</td>\n",
       "    </tr>\n",
       "    <tr>\n",
       "      <th>2</th>\n",
       "      <td>20663735</td>\n",
       "      <td>poovalli induchoodan is sentenced for six year...</td>\n",
       "      <td>Narasimham</td>\n",
       "      <td>['Musical', 'Action', 'Drama', 'Bollywood']</td>\n",
       "    </tr>\n",
       "    <tr>\n",
       "      <th>3</th>\n",
       "      <td>2231378</td>\n",
       "      <td>the lemon drop kid a new york city swindler is...</td>\n",
       "      <td>The Lemon Drop Kid</td>\n",
       "      <td>['Screwball comedy', 'Comedy']</td>\n",
       "    </tr>\n",
       "    <tr>\n",
       "      <th>4</th>\n",
       "      <td>595909</td>\n",
       "      <td>seventhday adventist church pastor michael cha...</td>\n",
       "      <td>A Cry in the Dark</td>\n",
       "      <td>['Crime Fiction', 'Drama', 'Docudrama', 'World...</td>\n",
       "    </tr>\n",
       "  </tbody>\n",
       "</table>\n",
       "</div>"
      ],
      "text/plain": [
       "         id                                               text  \\\n",
       "0  23890098  shlykov a hardworking taxi driver and lyosha a...   \n",
       "1  31186339  the nation of panem consists of a wealthy capi...   \n",
       "2  20663735  poovalli induchoodan is sentenced for six year...   \n",
       "3   2231378  the lemon drop kid a new york city swindler is...   \n",
       "4    595909  seventhday adventist church pastor michael cha...   \n",
       "\n",
       "                title                                              genre  \n",
       "0          Taxi Blues                          ['Drama', 'World cinema']  \n",
       "1    The Hunger Games  ['Action/Adventure', 'Science Fiction', 'Actio...  \n",
       "2          Narasimham        ['Musical', 'Action', 'Drama', 'Bollywood']  \n",
       "3  The Lemon Drop Kid                     ['Screwball comedy', 'Comedy']  \n",
       "4   A Cry in the Dark  ['Crime Fiction', 'Drama', 'Docudrama', 'World...  "
      ]
     },
     "execution_count": 5,
     "metadata": {},
     "output_type": "execute_result"
    }
   ],
   "source": [
    "df = pd.read_csv('Data/MovieSummaries/plots_genres.csv')\n",
    "df.head()"
   ]
  },
  {
   "cell_type": "code",
   "execution_count": 10,
   "metadata": {},
   "outputs": [],
   "source": [
    "# Split the data into training and testing sets\n",
    "df.dropna(subset=['text'], inplace=True)\n",
    "X = df['text']\n",
    "y = df['genre']\n",
    "X_train, X_test, y_train, y_test = train_test_split(X, y, test_size=0.2, random_state=42)"
   ]
  },
  {
   "cell_type": "code",
   "execution_count": 11,
   "metadata": {},
   "outputs": [],
   "source": [
    "tfidf_vectorizer = TfidfVectorizer()\n",
    "X_train_tfidf = tfidf_vectorizer.fit_transform(X_train)\n",
    "X_test_tfidf = tfidf_vectorizer.transform(X_test)"
   ]
  },
  {
   "cell_type": "code",
   "execution_count": 12,
   "metadata": {},
   "outputs": [
    {
     "data": {
      "text/plain": [
       "<33842x160812 sparse matrix of type '<class 'numpy.float64'>'\n",
       "\twith 5227244 stored elements in Compressed Sparse Row format>"
      ]
     },
     "execution_count": 12,
     "metadata": {},
     "output_type": "execute_result"
    }
   ],
   "source": [
    "X_train_tfidf "
   ]
  }
 ],
 "metadata": {
  "kernelspec": {
   "display_name": "NLP_project",
   "language": "python",
   "name": "python3"
  },
  "language_info": {
   "codemirror_mode": {
    "name": "ipython",
    "version": 3
   },
   "file_extension": ".py",
   "mimetype": "text/x-python",
   "name": "python",
   "nbconvert_exporter": "python",
   "pygments_lexer": "ipython3",
   "version": "3.11.5"
  }
 },
 "nbformat": 4,
 "nbformat_minor": 2
}
