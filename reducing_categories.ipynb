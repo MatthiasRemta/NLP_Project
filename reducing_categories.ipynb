{
 "cells": [
  {
   "cell_type": "markdown",
   "metadata": {},
   "source": []
  },
  {
   "cell_type": "code",
   "execution_count": 44,
   "metadata": {},
   "outputs": [],
   "source": [
    "import pandas as pd\n",
    "import regex as re\n",
    "import string\n",
    "from matplotlib import pyplot as plt"
   ]
  },
  {
   "cell_type": "code",
   "execution_count": 35,
   "metadata": {},
   "outputs": [
    {
     "name": "stdout",
     "output_type": "stream",
     "text": [
      "42204\n"
     ]
    }
   ],
   "source": [
    "df = pd.read_pickle(\"./Data/MovieSummaries/plots_genres.pkl\")\n",
    "print(len(df))\n",
    "\n",
    "df = df[~df['genre'].apply(lambda x: len(x) == 0)]\n",
    "\n",
    "# Explode the list of lists into separate rows\n",
    "df_exploded = df.explode('genre')\n",
    "\n",
    "# Count the occurrences of each string\n",
    "result = df_exploded['genre'].value_counts().reset_index()\n",
    "\n",
    "# Rename the columns for better clarity\n",
    "result.columns = ['String', 'Count']\n",
    "\n",
    "\n",
    "\n",
    "less_25 = result[result['Count']<400]\n",
    "less_25_list = less_25['String'].tolist()\n",
    "less_25\n",
    "\n",
    "df[df['genre'].apply(lambda x: any(target in x for target in less_25_list))]\n",
    "\n",
    "df['genre'] = df['genre'].apply(lambda x: [item for item in x if item not in less_25_list])\n",
    "\n",
    "\n",
    "#remove all rows with empty genre\n",
    "df = df[~df['genre'].apply(lambda x: len(x) == 0)]"
   ]
  },
  {
   "cell_type": "code",
   "execution_count": 36,
   "metadata": {},
   "outputs": [
    {
     "data": {
      "text/plain": [
       "41454"
      ]
     },
     "execution_count": 36,
     "metadata": {},
     "output_type": "execute_result"
    }
   ],
   "source": [
    "len(df)"
   ]
  },
  {
   "cell_type": "code",
   "execution_count": 37,
   "metadata": {},
   "outputs": [],
   "source": [
    "def preprocess_text(text):\n",
    "    # Convert text to lowercase\n",
    "    text = text.lower()\n",
    "    # Remove numbers\n",
    "    text = re.sub(r'\\w*\\d\\w*', '', text)\n",
    "    # Remove punctuation\n",
    "    text = re.sub(r'[%s]' % re.escape(string.punctuation), '', text)\n",
    "    # Remove extra spaces\n",
    "    text = re.sub(r' +', ' ', text)\n",
    "    #remove leading and trailing spaces\n",
    "    text = text.strip()\n",
    "    return text"
   ]
  },
  {
   "cell_type": "code",
   "execution_count": 38,
   "metadata": {},
   "outputs": [],
   "source": [
    "#write as function\n",
    "def preprocess_genre(genre):\n",
    "    genre = [preprocess_text(genre) for genre in genre]\n",
    "    genre = [re.sub(r'\\b(film|films|movie|movies|cinema|\\'s)\\b', '', genre) for genre in genre]\n",
    "    genre = [genre.strip() for genre in genre]\n",
    "    return genre"
   ]
  },
  {
   "cell_type": "code",
   "execution_count": 39,
   "metadata": {},
   "outputs": [],
   "source": [
    "df['genre'] = df['genre'].apply(lambda x: preprocess_genre(x))"
   ]
  },
  {
   "cell_type": "code",
   "execution_count": 40,
   "metadata": {},
   "outputs": [
    {
     "data": {
      "text/plain": [
       "['period piece',\n",
       " 'family drama',\n",
       " 'crime fiction',\n",
       " 'childrens',\n",
       " 'slapstick',\n",
       " 'japanese',\n",
       " 'cult',\n",
       " 'mystery',\n",
       " 'silent',\n",
       " 'romance',\n",
       " 'biography',\n",
       " 'adaptation',\n",
       " 'childrensfamily',\n",
       " 'noir',\n",
       " 'television',\n",
       " 'western',\n",
       " 'family',\n",
       " 'martial arts',\n",
       " 'thriller',\n",
       " 'action',\n",
       " 'suspense',\n",
       " 'short',\n",
       " 'adventure',\n",
       " 'lgbt',\n",
       " 'teen',\n",
       " 'supernatural',\n",
       " 'action thrillers',\n",
       " 'indie',\n",
       " 'coming of age',\n",
       " 'documentary',\n",
       " 'blackandwhite',\n",
       " 'drama',\n",
       " 'chinese',\n",
       " 'comedy',\n",
       " 'horror',\n",
       " 'comedydrama',\n",
       " 'crime thriller',\n",
       " 'actionadventure',\n",
       " 'world',\n",
       " 'biographical',\n",
       " 'musical',\n",
       " 'fantasy',\n",
       " 'war',\n",
       " 'romantic comedy',\n",
       " 'romantic drama',\n",
       " 'black comedy',\n",
       " 'science fiction',\n",
       " 'satire',\n",
       " 'political drama',\n",
       " 'psychological thriller',\n",
       " 'sports',\n",
       " 'animation',\n",
       " 'slasher',\n",
       " 'parody',\n",
       " 'bollywood',\n",
       " 'melodrama']"
      ]
     },
     "execution_count": 40,
     "metadata": {},
     "output_type": "execute_result"
    }
   ],
   "source": [
    "#reduce categories\n",
    "unique_categories = list(set([category for sublist in df['genre'] for category in sublist]))\n",
    "\n",
    "#remove empty strings\n",
    "unique_categories = [category for category in unique_categories if category != '']\n",
    "\n",
    "unique_categories\n"
   ]
  },
  {
   "cell_type": "code",
   "execution_count": 41,
   "metadata": {},
   "outputs": [
    {
     "name": "stdout",
     "output_type": "stream",
     "text": [
      "Over Genre 1:\n",
      "period piece\n",
      "\n",
      "Over Genre 3:\n",
      "family drama, family, drama, romantic drama, political drama\n",
      "\n",
      "Over Genre 6:\n",
      "crime fiction, science fiction\n",
      "\n",
      "Over Genre 2:\n",
      "childrens, japanese, cult, romance, biography, childrensfamily, noir, television, western, martial arts, suspense, short, adventure, lgbt, teen, supernatural, coming of age, documentary, blackandwhite, horror, comedydrama, actionadventure, biographical, musical, fantasy, satire, sports, animation, slasher, parody, bollywood, melodrama\n",
      "\n",
      "Over Genre 15:\n",
      "slapstick\n",
      "\n",
      "Over Genre 4:\n",
      "mystery\n",
      "\n",
      "Over Genre 7:\n",
      "silent\n",
      "\n",
      "Over Genre 14:\n",
      "adaptation\n",
      "\n",
      "Over Genre 8:\n",
      "thriller, crime thriller, psychological thriller\n",
      "\n",
      "Over Genre 13:\n",
      "action, action thrillers\n",
      "\n",
      "Over Genre 10:\n",
      "indie\n",
      "\n",
      "Over Genre 12:\n",
      "chinese\n",
      "\n",
      "Over Genre 5:\n",
      "comedy, romantic comedy, black comedy\n",
      "\n",
      "Over Genre 11:\n",
      "world\n",
      "\n",
      "Over Genre 9:\n",
      "war\n",
      "\n"
     ]
    },
    {
     "name": "stderr",
     "output_type": "stream",
     "text": [
      "c:\\anaconda3\\envs\\nlp-project\\lib\\site-packages\\sklearn\\cluster\\_kmeans.py:1412: FutureWarning: The default value of `n_init` will change from 10 to 'auto' in 1.4. Set the value of `n_init` explicitly to suppress the warning\n",
      "  super()._check_params_vs_input(X, default_n_init=10)\n"
     ]
    }
   ],
   "source": [
    "#clustering with TF-IDF (Term Frequency-Inverse Document Frequency) vectorization process in the provided code converts textual data (in this case, movie category names) into numerical vectors. \n",
    "\n",
    "\n",
    "from sklearn.feature_extraction.text import TfidfVectorizer\n",
    "from sklearn.cluster import KMeans\n",
    "\n",
    "\n",
    "# Extract category names\n",
    "category_names = [category for category in unique_categories]\n",
    "\n",
    "# Create a TF-IDF vectorizer\n",
    "tfidf_vectorizer = TfidfVectorizer()\n",
    "\n",
    "# Fit and transform the category names using TF-IDF\n",
    "tfidf_matrix = tfidf_vectorizer.fit_transform(category_names)\n",
    "\n",
    "# Perform K-means clustering with n clusters\n",
    "kmeans = KMeans(n_clusters=15)\n",
    "kmeans.fit(tfidf_matrix)\n",
    "\n",
    "# Get the cluster labels for each category\n",
    "cluster_labels = kmeans.labels_\n",
    "\n",
    "# Create a dictionary to group categories by their cluster label\n",
    "clusters = {}\n",
    "for i, label in enumerate(cluster_labels):\n",
    "    if label not in clusters:\n",
    "        clusters[label] = []\n",
    "    clusters[label].append(category_names[i])\n",
    "\n",
    "# Print the movie categories grouped by \"over genres\"\n",
    "for cluster_label, cluster_categories in clusters.items():\n",
    "    print(f\"Over Genre {cluster_label + 1}:\")\n",
    "    print(\", \".join(cluster_categories))\n",
    "    print()"
   ]
  },
  {
   "cell_type": "code",
   "execution_count": 45,
   "metadata": {},
   "outputs": [
    {
     "data": {
      "image/png": "[encoded data removed]",
      "text/plain": [
       "<Figure size 1500x1000 with 1 Axes>"
      ]
     },
     "metadata": {},
     "output_type": "display_data"
    }
   ],
   "source": [
    "#show balance of clusters\n",
    "plt.figure(figsize=(15,10))\n",
    "plt.bar(clusters.keys(), [len(cluster) for cluster in clusters.values()])\n",
    "plt.title('Number of categories per cluster')\n",
    "plt.xlabel('Cluster')\n",
    "plt.ylabel('Number of categories')\n",
    "plt.show()"
   ]
  }
 ],
 "metadata": {
  "kernelspec": {
   "display_name": "nlp-project",
   "language": "python",
   "name": "python3"
  },
  "language_info": {
   "codemirror_mode": {
    "name": "ipython",
    "version": 3
   },
   "file_extension": ".py",
   "mimetype": "text/x-python",
   "name": "python",
   "nbconvert_exporter": "python",
   "pygments_lexer": "ipython3",
   "version": "3.10.13"
  }
 },
 "nbformat": 4,
 "nbformat_minor": 2
}
