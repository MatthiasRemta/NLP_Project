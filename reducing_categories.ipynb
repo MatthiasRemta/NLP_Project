{
 "cells": [
  {
   "cell_type": "markdown",
   "metadata": {},
   "source": []
  },
  {
   "cell_type": "code",
   "execution_count": 37,
   "metadata": {},
   "outputs": [],
   "source": [
    "import pandas as pd\n",
    "import regex as re\n",
    "import string\n",
    "from matplotlib import pyplot as plt\n",
    "import os"
   ]
  },
  {
   "cell_type": "code",
   "execution_count": 38,
   "metadata": {},
   "outputs": [
    {
     "name": "stdout",
     "output_type": "stream",
     "text": [
      "41793\n"
     ]
    }
   ],
   "source": [
    "df = pd.read_pickle(\"./Data/MovieSummaries/plots_genres.pkl\")\n",
    "# Remove rows with empty genre\n",
    "df = df[~df['genre'].apply(lambda x: len(x) == 0)]\n",
    "#remove rows with nan genre\n",
    "df = df[~df['genre'].isna()]\n",
    "\n",
    "print(len(df))"
   ]
  },
  {
   "cell_type": "code",
   "execution_count": 39,
   "metadata": {},
   "outputs": [],
   "source": [
    "import pandas as pd\n",
    "\n",
    "def process_less_than_threshold(df, count_threshold=50):\n",
    "    df_exploded = df.explode('genre')\n",
    "\n",
    "    # Count the occurrences of each string\n",
    "    result = df_exploded['genre'].value_counts().reset_index()\n",
    "\n",
    "    # Rename the columns for better clarity\n",
    "    result.columns = ['String', 'Count']\n",
    "\n",
    "    # Filter strings with count less than the threshold\n",
    "    less_than_threshold = result[result['Count'] < count_threshold]\n",
    "    less_than_threshold_list = less_than_threshold['String'].tolist()\n",
    "\n",
    "    print(less_than_threshold_list)\n",
    "\n",
    "    # Filter the original dataframe to remove rows containing less frequent genres\n",
    "    df[df['genre'].apply(lambda x: any(target in x for target in less_than_threshold_list))]\n",
    "\n",
    "    # Remove less frequent genres from the 'genre' column\n",
    "    df['genre'] = df['genre'].apply(lambda x: [item for item in x if item not in less_than_threshold_list])\n",
    "\n",
    "    # Remove rows with empty genre again\n",
    "    df = df[~df['genre'].apply(lambda x: len(x) == 0)]\n",
    "\n",
    "    return df"
   ]
  },
  {
   "cell_type": "code",
   "execution_count": 40,
   "metadata": {},
   "outputs": [],
   "source": [
    "def preprocess_text(text):\n",
    "    # Convert text to lowercase\n",
    "    text = text.lower()\n",
    "    # Remove numbers\n",
    "    text = re.sub(r'\\w*\\d\\w*', '', text)\n",
    "    # Remove punctuation\n",
    "    text = re.sub(r'[%s]' % re.escape(string.punctuation), '', text)\n",
    "    # Remove extra spaces\n",
    "    text = re.sub(r' +', ' ', text)\n",
    "    #remove leading and trailing spaces\n",
    "    text = text.strip()\n",
    "    return text"
   ]
  },
  {
   "cell_type": "code",
   "execution_count": 41,
   "metadata": {},
   "outputs": [],
   "source": [
    "#write as function\n",
    "def preprocess_genre(genre):\n",
    "    genre = [preprocess_text(genre) for genre in genre]\n",
    "    genre = [re.sub(r'\\b(film|films|movie|movies|cinema|new|\\'s)\\b', '', genre) for genre in genre]\n",
    "    genre = [genre.strip() for genre in genre]\n",
    "    return genre"
   ]
  },
  {
   "cell_type": "code",
   "execution_count": 42,
   "metadata": {},
   "outputs": [],
   "source": [
    "df['genre'] = df['genre'].apply(lambda x: preprocess_genre(x))"
   ]
  },
  {
   "cell_type": "code",
   "execution_count": 43,
   "metadata": {},
   "outputs": [
    {
     "name": "stderr",
     "output_type": "stream",
     "text": [
      "c:\\anaconda3\\envs\\nlp-project\\lib\\site-packages\\sklearn\\cluster\\_kmeans.py:1412: FutureWarning: The default value of `n_init` will change from 10 to 'auto' in 1.4. Set the value of `n_init` explicitly to suppress the warning\n",
      "  super()._check_params_vs_input(X, default_n_init=10)\n"
     ]
    },
    {
     "name": "stdout",
     "output_type": "stream",
     "text": [
      "Over Genre 5:\n",
      ", documentary, tokusatsu, animation, gross out, comedydrama, cold war, silhouette animation, docudrama, costume adventure, juvenile delinquency, swashbuckler, vampire, northern, tragedy, revenge, dogme, humour, mondo, precode, health fitness, operetta, education, mockumentary, business, kitchen sink realism, women in prison, slice of life story, ensemble, satire, social problem, prison, school story, buddy picture, boxing, cmovie, heist, bloopers candid camera, media satire, dystopia, grossout, buddy, family personal relationships, latino, actionadventure, expressionism, political satire, war effort, reboot, chase, biographical, nuclear warfare, space western, natural horror, parody, religious, foreign legion, christmas, stoner, roadshow theatrical release, world, news, hip hop, world history, auto racing, historical documentaries, slasher, demonic child, baseball, british  wave, natural disaster, adaptation, hagiography, media studies, neorealism, computer animation, z, bollywood, superhero, supernatural, zombie, melodrama, existentialism, concert, action, roadhorror, comingofage, parkour in popular culture, samurai, linguistics, neonoir, fairy tale, computers, political, antiwar, splatter, psychological horror, à clef, social issues, gender issues, environmental science, prison escape, scifi horror, breakdance, martial arts, teen, cavalry, war, western, psychobiddy, anthology, pornographic, detective, caper story, anthropology, punk rock, gulf war, christian, action thrillers, mumblecore, bmovie, space opera, escape, illnesses disabilities, extreme sports, tamil, propaganda, mystery, familyoriented adventure, glamorized spy, language literature, cyberpunk, malayalam, short, buddy cop, acid western, goat gland, historical epic, feminist, whodunit, early black, suspense, erotica, queer, filmed play, haunted house, combat, the netherlands in world war ii, master criminal, indie, future noir, beach party, blackandwhite, race, private military company, doomsday, roadshowcarny, pinku eiga, fictional, cult, tollywood, television, patriotic, rockumentary, revisionist fairy tale, horse racing, czechoslovak  wave, essay, wuxia, gothic, history, chick flick, remake, comdedy, singing cowboy, art, noir, lgbt, sports, animated cartoon, animal picture, hybrid western, avantgarde, journalism, camp, road, holiday, slapstick, americana, adventure, travel, homoeroticism, culture society, adult, disaster, spaghetti western, ninja, bwestern, exploitation, horror, chinese, supermarionation, serial, graphic applied arts, surrealism, anime, educational, british empire, scifi adventure, kafkaesque, epic, spy, revisionist western, interpersonal relationships, indian western, animals, point of view shot, softcore porn, live action, female buddy, finance investing, heavencanwait fantasies, bruceploitation, statutory rape, biker, romance, childrensfamily, creature, stop motion, epic western, time travel, dance, monster, inventions innovations, experimental, beach, feature, clay animation, fan, absurdism, ealing comedies, bengali, blaxploitation, albino bias, filipino, family, costume horror, nature, japanese, tragicomedy, hollywood, television history, silent, political documetary, sci fi pictures original, biopic feature, sponsored, biography, giallo, filmopera, coming of age, star vehicle, archaeology, steampunk, plague, sexploitation, gangster, about gladiators\n",
      "\n",
      "Over Genre 3:\n",
      "addiction drama, erotic drama, historical drama, inspirational drama, romantic drama, costume drama, political drama, family drama, legal drama, drama, marriage drama, childhood drama, courtroom drama\n",
      "\n",
      "Over Genre 11:\n",
      "fantasy comedy, workplace comedy, action comedy, courtroom comedy, domestic comedy, screwball comedy, black comedy, comedy horror, standup comedy, comedy of errors, heavenly comedy, horror comedy, comedy, comedy western, comedy of manners, sex comedy, romantic comedy, adventure comedy\n",
      "\n",
      "Over Genre 2:\n",
      "law crime, crime comedy, crime drama, crime, crime fiction\n",
      "\n",
      "Over Genre 6:\n",
      "comedy thriller, political thriller, crime thriller, thriller, scifi thriller, romantic thriller, erotic thriller, psychological thriller\n",
      "\n",
      "Over Genre 7:\n",
      "apocalyptic and postapocalyptic fiction, science fiction western, science fiction, detective fiction, conspiracy fiction, werewolf fiction, medical fiction, historical fiction\n",
      "\n",
      "Over Genre 4:\n",
      "backstage musical, musical comedy, musical, jukebox musical, animated musical, musical drama\n",
      "\n",
      "Over Genre 8:\n",
      "alien, alien invasion\n",
      "\n",
      "Over Genre 12:\n",
      "sword and sorcery, airplanes and airports, archives and records, sword and sandal, libraries and librarians\n",
      "\n",
      "Over Genre 9:\n",
      "outlaw biker, outlaw\n",
      "\n",
      "Over Genre 15:\n",
      "romantic fantasy, fantasy drama, mythological fantasy, childrens, childrens entertainment, fantasy, fantasy adventure, childrens fantasy, childrens issues\n",
      "\n",
      "Over Genre 10:\n",
      "therimin music, music, instrumental music\n",
      "\n",
      "Over Genre 14:\n",
      "hardcore pornography, gay interest, gay, pornography, gay themed, gay pornography\n",
      "\n",
      "Over Genre 13:\n",
      "period horror, period piece\n",
      "\n",
      "Over Genre 1:\n",
      "jungle\n",
      "\n"
     ]
    }
   ],
   "source": [
    "#clustering with TF-IDF (Term Frequency-Inverse Document Frequency) vectorization process in the provided code converts textual data (in this case, movie category names) into numerical vectors. \n",
    "\n",
    "\n",
    "from sklearn.feature_extraction.text import TfidfVectorizer\n",
    "from sklearn.cluster import KMeans\n",
    "\n",
    "#reduce categories\n",
    "unique_categories = list(set([category for sublist in df['genre'] for category in sublist]))\n",
    "\n",
    "# Extract category names\n",
    "category_names = [category for category in unique_categories]\n",
    "\n",
    "# Create a TF-IDF vectorizer\n",
    "tfidf_vectorizer = TfidfVectorizer()\n",
    "\n",
    "# Fit and transform the category names using TF-IDF\n",
    "tfidf_matrix = tfidf_vectorizer.fit_transform(category_names)\n",
    "\n",
    "# Perform K-means clustering with n clusters\n",
    "kmeans = KMeans(n_clusters=15)\n",
    "kmeans.fit(tfidf_matrix)\n",
    "\n",
    "# Get the cluster labels for each category\n",
    "cluster_labels = kmeans.labels_\n",
    "\n",
    "# Create a dictionary to group categories by their cluster label\n",
    "clusters = {}\n",
    "for i, label in enumerate(cluster_labels):\n",
    "    if label not in clusters:\n",
    "        clusters[label] = []\n",
    "    clusters[label].append(category_names[i])\n",
    "\n",
    "# Print the movie categories grouped by \"over genres\"\n",
    "for cluster_label, cluster_categories in clusters.items():\n",
    "    print(f\"Over Genre {cluster_label + 1}:\")\n",
    "    print(\", \".join(cluster_categories))\n",
    "    print()"
   ]
  },
  {
   "cell_type": "code",
   "execution_count": 44,
   "metadata": {},
   "outputs": [
    {
     "data": {
      "image/png": "[encoded data removed]",
      "text/plain": [
       "<Figure size 1500x1000 with 1 Axes>"
      ]
     },
     "metadata": {},
     "output_type": "display_data"
    }
   ],
   "source": [
    "#show balance of clusters\n",
    "plt.figure(figsize=(15,10))\n",
    "plt.bar(clusters.keys(), [len(cluster) for cluster in clusters.values()])\n",
    "plt.title('Number of categories per cluster')\n",
    "plt.xlabel('Cluster')\n",
    "plt.ylabel('Number of categories')\n",
    "plt.show()"
   ]
  },
  {
   "cell_type": "code",
   "execution_count": 45,
   "metadata": {},
   "outputs": [],
   "source": [
    "# #Create a DataFrame from the 'clusters' dictionary\n",
    "#if genre_clusters_tf-idf.csv already exists, skip this step\n",
    "if not os.path.isfile('Data/MovieSummaries/genre_clusters_tf-idf.csv'):\n",
    "    df_clusters = pd.DataFrame.from_dict(clusters, orient='index')\n",
    "\n",
    "    #sort by index desc\n",
    "    df_clusters = df_clusters.sort_index(ascending=True)\n",
    "    #transpose\n",
    "    df_clusters = df_clusters.transpose()\n",
    "\n",
    "    # Write the DataFrame to a CSV file with a semicolon (;) separator\n",
    "    df_clusters.to_csv('Data/MovieSummaries/genre_clusters_tf-idf.csv', index=False, sep=';')\n",
    "\n",
    "#load the clusters from the csv file\n",
    "df_clusters = pd.read_csv('Data/MovieSummaries/genre_clusters_tf-idf.csv', sep=';')"
   ]
  },
  {
   "cell_type": "code",
   "execution_count": 46,
   "metadata": {},
   "outputs": [],
   "source": [
    "#count occurences of each cluster in orignal df\n",
    "# iterate of each column of df_clusters, count for each element in the column how many times it appears in the original df and sum up the counts\n",
    "# df_clusters_count = pd.DataFrame(df_clusters.apply(lambda x: df['genre'].apply(lambda y: x.isin(y).sum()).sum(), axis=0))\n",
    "# df_clusters_count\n",
    "\n",
    "# \t\n",
    "# 0\t651\n",
    "# 1\t22953\n",
    "# 2\t6756\n",
    "# 3\t1278\n",
    "# 4\t4644\n",
    "# 5\t3883\n",
    "# 6\t4016\n",
    "# 7\t6417\n",
    "# 8\t6626\n",
    "# 9\t735\n",
    "# 10\t981\n",
    "# 11\t341\n",
    "# 12\t73837\n",
    "# 13\t16678\n",
    "# 14\t668"
   ]
  },
  {
   "cell_type": "code",
   "execution_count": 47,
   "metadata": {},
   "outputs": [],
   "source": [
    "# rename clusters to more meaningful names\n",
    "\n",
    "new_column_names = {\n",
    "    '0': 'suspense',\n",
    "    '1': 'drama',\n",
    "    '2': 'war',\n",
    "    '3': 'western',\n",
    "    '4': 'horror',\n",
    "    '5': 'adventure',\n",
    "    '6': 'family',\n",
    "    '7': 'action',\n",
    "    '8': 'crime',\n",
    "    '9': 'gay',\n",
    "    '10': 'political',\n",
    "    '11': 'buddy',\n",
    "    '12': 'miscellaneous',\n",
    "    '13': 'comedy',\n",
    "    '14': 'childrens'\n",
    "}\n",
    "\n",
    "# Rename the columns\n",
    "df_clusters.rename(columns=new_column_names, inplace=True)\n",
    "\n",
    "df_clusters\n",
    "#remove column \"miscellaneous\"\n",
    "df_clusters.drop('miscellaneous', axis=1, inplace=True)"
   ]
  },
  {
   "cell_type": "code",
   "execution_count": 48,
   "metadata": {},
   "outputs": [],
   "source": [
    "#replace in df the genre categories with the cluster names\n",
    "# Create a dictionary to map the clusters to the genre categories\n",
    "cluster_genre_map = {}\n",
    "for cluster_label, cluster_categories in df_clusters.items():\n",
    "    for category in cluster_categories:\n",
    "        cluster_genre_map[category] = cluster_label\n",
    "\n"
   ]
  },
  {
   "cell_type": "code",
   "execution_count": 49,
   "metadata": {},
   "outputs": [],
   "source": [
    "# explode df['genre'] again and do the same as above\n",
    "df_exploded = df.explode('genre')\n",
    "#if key is in cluster_genre_map, replace with value\n",
    "df_exploded['genre'] = df_exploded['genre'].apply(lambda x: cluster_genre_map[x] if x in dict(cluster_genre_map) else x)"
   ]
  },
  {
   "cell_type": "code",
   "execution_count": 50,
   "metadata": {},
   "outputs": [
    {
     "data": {
      "text/html": [
       "<div>\n",
       "<style scoped>\n",
       "    .dataframe tbody tr th:only-of-type {\n",
       "        vertical-align: middle;\n",
       "    }\n",
       "\n",
       "    .dataframe tbody tr th {\n",
       "        vertical-align: top;\n",
       "    }\n",
       "\n",
       "    .dataframe thead th {\n",
       "        text-align: right;\n",
       "    }\n",
       "</style>\n",
       "<table border=\"1\" class=\"dataframe\">\n",
       "  <thead>\n",
       "    <tr style=\"text-align: right;\">\n",
       "      <th></th>\n",
       "      <th>id</th>\n",
       "      <th>text</th>\n",
       "      <th>title</th>\n",
       "      <th>genre</th>\n",
       "    </tr>\n",
       "  </thead>\n",
       "  <tbody>\n",
       "  </tbody>\n",
       "</table>\n",
       "</div>"
      ],
      "text/plain": [
       "Empty DataFrame\n",
       "Columns: [id, text, title, genre]\n",
       "Index: []"
      ]
     },
     "execution_count": 50,
     "metadata": {},
     "output_type": "execute_result"
    }
   ],
   "source": [
    "\n",
    "#locate in genre column romantic drama\n",
    "df_exploded[df_exploded['genre'] == 'romantic drama']"
   ]
  },
  {
   "cell_type": "code",
   "execution_count": 51,
   "metadata": {},
   "outputs": [],
   "source": [
    "#count occurces of each genre\n",
    "df_exploded['genre'].value_counts()\n",
    "#show as txt\n",
    "df_exploded['genre'].value_counts().to_csv('Data/MovieSummaries/genre_count.txt', sep=';')"
   ]
  },
  {
   "cell_type": "code",
   "execution_count": 52,
   "metadata": {},
   "outputs": [
    {
     "name": "stdout",
     "output_type": "stream",
     "text": [
      "41793\n",
      "['gangster', 'anime', 'historical fiction', 'detective', 'monster', 'road', 'docudrama', 'disaster', 'erotica', 'zombie', 'filipino', 'detective fiction', 'culture society', 'epic', 'computer animation', 'erotic thriller', 'pornographic', 'heist', 'animal picture', 'stop motion', 'precode', 'adult', 'christian', 'doomsday', 'experimental', 'swashbuckler', 'prison', 'social issues', 'chase', 'surrealism', 'mockumentary', 'alien', 'animated cartoon', 'holiday', 'slice of life story', 'social problem', 'americana', 'hollywood', 'remake', 'combat', 'dystopia', 'avantgarde', 'sexploitation', 'christmas', 'caper story', 'tragedy', 'absurdism', 'wuxia', 'blaxploitation', 'time travel', 'propaganda', 'sword and sorcery', 'feminist', 'media satire', 'dance', 'haunted house', 'tamil', 'antiwar', 'historical epic', 'gothic', 'jungle', 'religious', 'romantic fantasy', 'gross out', 'grossout', 'neonoir', 'medical fiction', 'airplanes and airports', 'tragicomedy', 'boxing', 'auto racing', 'fairy tale', 'stoner', 'escape', 'glamorized spy', 'whodunit', 'animated musical', 'juvenile delinquency', 'softcore porn', 'rockumentary', 'existentialism', 'roadshow theatrical release', 'tollywood', 'apocalyptic and postapocalyptic fiction', 'hip hop', 'steampunk', 'future noir', 'à clef', 'splatter', 'samurai', 'mythological fantasy', 'master criminal', 'giallo', 'pinku eiga', 'punk rock', 'heavencanwait fantasies', 'biker', 'backstage musical', 'british empire', 'hagiography', 'beach', 'gender issues', 'bwestern', 'roadhorror', '', 'fan', 'dogme', 'nature', 'sword and sandal', 'educational', 'animals', 'albino bias', 'travel', 'illnesses disabilities', 'natural disaster', 'kitchen sink realism', 'british  wave', 'malayalam', 'exploitation', 'outlaw biker', 'cavalry', 'ealing comedies', 'concert', 'serial', 'television history', 'psychobiddy', 'archaeology', 'extreme sports', 'bengali', 'foreign legion', 'baseball', 'reboot', 'horse racing', 'feature', 'fictional', 'essay', 'language literature', 'northern', 'media studies', 'anthology', 'jukebox musical', 'mumblecore', 'news', 'czechoslovak  wave', 'demonic child', 'kafkaesque', 'early black', 'archives and records', 'environmental science', 'cyberpunk', 'libraries and librarians', 'scifi thriller', 'outlaw', 'about gladiators', 'space opera', 'mondo', 'finance investing', 'sci fi pictures original', 'humour', 'clay animation', 'graphic applied arts', 'goat gland', 'operetta', 'comingofage', 'sponsored', 'werewolf fiction', 'therimin music', 'roadshowcarny', 'alien invasion', 'plague', 'instrumental music', 'inventions innovations', 'school story', 'business', 'computers', 'filmed play', 'bloopers candid camera', 'singing cowboy', 'latino', 'health fitness', 'bruceploitation', 'race', 'vampire', 'camp', 'nuclear warfare', 'filmopera', 'education', 'point of view shot', 'supermarionation', 'star vehicle', 'historical documentaries', 'anthropology', 'revenge', 'expressionism', 'tokusatsu', 'conspiracy fiction', 'private military company', 'revisionist fairy tale', 'prison escape', 'journalism', 'z', 'beach party', 'breakdance', 'chick flick', 'queer', 'patriotic', 'cmovie', 'silhouette animation', 'linguistics', 'ninja', 'homoeroticism', 'neorealism', 'statutory rape', 'comdedy', 'romantic thriller']\n",
      "41577\n"
     ]
    },
    {
     "data": {
      "text/plain": [
       "genre\n",
       "drama                     22953\n",
       "comedy                    16784\n",
       "war                        6756\n",
       "romance                    6666\n",
       "crime                      6626\n",
       "thriller                   6530\n",
       "action                     6417\n",
       "horror                     4644\n",
       "family                     4016\n",
       "adventure                  3883\n",
       "blackandwhite              3731\n",
       "indie                      3668\n",
       "actionadventure            3553\n",
       "short                      3192\n",
       "animation                  2441\n",
       "musical                    2414\n",
       "science fiction            2339\n",
       "mystery                    2119\n",
       "fantasy                    2012\n",
       "period piece               1321\n",
       "japanese                   1290\n",
       "western                    1279\n",
       "comedydrama                1261\n",
       "adaptation                 1225\n",
       "documentary                1213\n",
       "silent                     1199\n",
       "psychological thriller     1138\n",
       "bollywood                  1058\n",
       "chinese                     998\n",
       "political                   981\n",
       "lgbt                        825\n",
       "teen                        824\n",
       "parody                      767\n",
       "childrensfamily             759\n",
       "coming of age               741\n",
       "gay                         735\n",
       "martial arts                706\n",
       "cult                        680\n",
       "sports                      672\n",
       "childrens                   668\n",
       "television                  665\n",
       "slasher                     654\n",
       "suspense                    651\n",
       "biographical                625\n",
       "biography                   592\n",
       "supernatural                571\n",
       "satire                      532\n",
       "noir                        524\n",
       "slapstick                   518\n",
       "melodrama                   499\n",
       "bmovie                      386\n",
       "superhero                   369\n",
       "biopic feature              365\n",
       "history                     358\n",
       "music                       356\n",
       "art                         351\n",
       "ensemble                    349\n",
       "creature                    347\n",
       "spy                         342\n",
       "buddy                       341\n",
       "Name: count, dtype: int64"
      ]
     },
     "execution_count": 52,
     "metadata": {},
     "output_type": "execute_result"
    }
   ],
   "source": [
    "# aggregate the rows again\n",
    "\n",
    "df = df_exploded.groupby('id').agg({'text': 'first', 'title': 'first', 'genre': list}).reset_index()\n",
    "print(len(df))\n",
    "df = process_less_than_threshold(df, count_threshold=341)\n",
    "print(len(df))\n",
    "#count occurces of each genre\n",
    "df_exploded = df.explode('genre')\n",
    "df_exploded['genre'].value_counts()"
   ]
  },
  {
   "cell_type": "code",
   "execution_count": 53,
   "metadata": {},
   "outputs": [
    {
     "data": {
      "image/png": "[encoded data removed]",
      "text/plain": [
       "<Figure size 1500x1000 with 1 Axes>"
      ]
     },
     "metadata": {},
     "output_type": "display_data"
    },
    {
     "name": "stdout",
     "output_type": "stream",
     "text": [
      "60\n"
     ]
    }
   ],
   "source": [
    "#plot the number of occurences of each genre\n",
    "plt.figure(figsize=(15,10))\n",
    "plt.bar(df_exploded['genre'].value_counts().index, df_exploded['genre'].value_counts())\n",
    "plt.title('Number of occurences of each genre')\n",
    "plt.xlabel('Genre')\n",
    "plt.ylabel('Number of occurences')\n",
    "plt.show()\n",
    "#print number of unique genres\n",
    "print(len(df_exploded['genre'].unique()))"
   ]
  },
  {
   "cell_type": "code",
   "execution_count": 54,
   "metadata": {},
   "outputs": [],
   "source": [
    "#save the df to a pickle file\n",
    "df.to_pickle(\"./Data/MovieSummaries/plots_genres_reduced_to_60.pkl\")"
   ]
  }
 ],
 "metadata": {
  "kernelspec": {
   "display_name": "nlp-project",
   "language": "python",
   "name": "python3"
  },
  "language_info": {
   "codemirror_mode": {
    "name": "ipython",
    "version": 3
   },
   "file_extension": ".py",
   "mimetype": "text/x-python",
   "name": "python",
   "nbconvert_exporter": "python",
   "pygments_lexer": "ipython3",
   "version": "3.10.13"
  }
 },
 "nbformat": 4,
 "nbformat_minor": 2
}
