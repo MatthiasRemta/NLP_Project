{
 "cells": [
  {
   "cell_type": "markdown",
   "metadata": {},
   "source": [
    "# Data extraction and first preprocessing\n",
    "\n",
    "This notebook deals with the extraction and reformatting of the data. The data dataset considered in this notebook is the CMU movie summary corpus dataset. It was downloaded as a tar.gz file from https://www.cs.cmu.edu/~ark/personas/.\n",
    "\n",
    "### Libraries"
   ]
  },
  {
   "cell_type": "code",
   "execution_count": 22,
   "metadata": {},
   "outputs": [],
   "source": [
    "import pandas as pd\n",
    "import requests\n",
    "import tarfile\n",
    "import json\n",
    "import regex as re\n",
    "import string"
   ]
  },
  {
   "cell_type": "markdown",
   "metadata": {},
   "source": [
    "### Data extraction"
   ]
  },
  {
   "cell_type": "code",
   "execution_count": 13,
   "metadata": {},
   "outputs": [
    {
     "name": "stdout",
     "output_type": "stream",
     "text": [
      "Downloading MovieSummaries.tar.gz, decompressing, and saving to ./Data\n"
     ]
    }
   ],
   "source": [
    "# Check if MovieSummaries.tar.gz exists, download and decompress\n",
    "try:\n",
    "    open('MovieSummaries.tar.gz')\n",
    "except FileNotFoundError:\n",
    "    print(\"Downloading MovieSummaries.tar.gz, decompressing, and saving to ./Data\")\n",
    "    url = 'http://www.cs.cmu.edu/~ark/personas/data/MovieSummaries.tar.gz'\n",
    "    r = requests.get(url)\n",
    "    with open('MovieSummaries.tar.gz', 'wb') as f:\n",
    "        f.write(r.content)\n",
    "    # Decompress downloaded data\n",
    "    with tarfile.open('MovieSummaries.tar.gz') as f:\n",
    "        f.extractall('./Data')"
   ]
  },
  {
   "cell_type": "code",
   "execution_count": 14,
   "metadata": {},
   "outputs": [],
   "source": [
    "# Read data - files are eighter saved as .txt or as tsv-format (tab separated)\n",
    "df_character_metadata = pd.read_csv('Data/MovieSummaries/character.metadata.tsv', delimiter='\\t', header=None)\n",
    "df_movie_metadata = pd.read_csv('Data/MovieSummaries/movie.metadata.tsv', delimiter='\\t', header=None)\n",
    "df_name_cluster = pd.read_csv('Data/MovieSummaries/name.clusters.txt', delimiter='\\t', header=None)\n",
    "df_plot_summary = pd.read_csv('Data/MovieSummaries/plot_summaries.txt', delimiter='\\t', header=None)\n",
    "df_tvtrope_cluster = pd.read_csv('Data/MovieSummaries/tvtropes.clusters.txt', delimiter='\\t', header=None)"
   ]
  },
  {
   "cell_type": "markdown",
   "metadata": {},
   "source": [
    "### Preliminary text preprocessing"
   ]
  },
  {
   "cell_type": "code",
   "execution_count": 17,
   "metadata": {},
   "outputs": [],
   "source": [
    "def preprocess_text(text):\n",
    "    # Convert text to lowercase\n",
    "    text = text.lower()\n",
    "    # Remove numbers\n",
    "    text = re.sub(r'\\w*\\d\\w*', '', text)\n",
    "    # Remove punctuation\n",
    "    text = re.sub(r'[%s]' % re.escape(string.punctuation), '', text)\n",
    "    # Remove extra spaces\n",
    "    text = re.sub(r' +', ' ', text)\n",
    "    #remove leading and trailing spaces\n",
    "    text = text.strip()\n",
    "    return text"
   ]
  },
  {
   "cell_type": "code",
   "execution_count": 23,
   "metadata": {},
   "outputs": [
    {
     "name": "stdout",
     "output_type": "stream",
     "text": [
      "Creating plot_summaries.csv\n"
     ]
    }
   ],
   "source": [
    "# If plot_summaries.csv exists, read it, else create it\n",
    "try:\n",
    "    df_plot_summary = pd.read_csv('Data/MovieSummaries/plot_summaries.csv').iloc[: , 1:]\n",
    "except FileNotFoundError:\n",
    "    print('Creating plot_summaries.csv')\n",
    "    # preprocess the text\n",
    "    df_plot_summary[1] = df_plot_summary[1].apply(preprocess_text)\n",
    "    # save the preprocessed data\n",
    "    df_plot_summary.to_csv('Data/MovieSummaries/plot_summaries.csv')"
   ]
  },
  {
   "cell_type": "markdown",
   "metadata": {},
   "source": [
    "### Merging movie summaries and genres"
   ]
  },
  {
   "cell_type": "code",
   "execution_count": 40,
   "metadata": {},
   "outputs": [],
   "source": [
    "# Load movie summaries and only keep ID and text columns\n",
    "plot = pd.read_csv('Data/MovieSummaries/plot_summaries.csv')\n",
    "plot_df = plot.drop('Unnamed: 0', axis=1).rename(columns={\"0\": \"id\", \"1\": \"text\"})\n",
    "\n",
    "# Load movie metadata and only keep ID, movie title and genre json information\n",
    "df_movie_metadata = pd.read_csv('Data/MovieSummaries/movie.metadata.tsv', delimiter='\\t', header=None)\n",
    "genre_df = df_movie_metadata[[0,2,8]]"
   ]
  },
  {
   "cell_type": "code",
   "execution_count": 41,
   "metadata": {},
   "outputs": [
    {
     "name": "stderr",
     "output_type": "stream",
     "text": [
      "C:\\Users\\anna-\\AppData\\Local\\Temp\\ipykernel_8992\\3663477184.py:2: SettingWithCopyWarning: \n",
      "A value is trying to be set on a copy of a slice from a DataFrame.\n",
      "Try using .loc[row_indexer,col_indexer] = value instead\n",
      "\n",
      "See the caveats in the documentation: https://pandas.pydata.org/pandas-docs/stable/user_guide/indexing.html#returning-a-view-versus-a-copy\n",
      "  genre_df['genre'] = genre_df[8].apply(lambda x: list(json.loads(x).values()))\n"
     ]
    }
   ],
   "source": [
    "# Restructuring genre jsons to genre lists \n",
    "genre_df['genre'] = genre_df[8].apply(lambda x: list(json.loads(x).values()))\n",
    "genre_df.columns = ['movie_id','title','genre_json','genre']\n",
    "genre_df = genre_df.drop(columns=['genre_json'])"
   ]
  },
  {
   "cell_type": "code",
   "execution_count": 42,
   "metadata": {},
   "outputs": [],
   "source": [
    "# Merging movie summaries and genres\n",
    "df = plot_df.merge(genre_df, left_on='id', right_on='movie_id', how='left')\n",
    "df = df.drop('movie_id', axis=1)"
   ]
  },
  {
   "cell_type": "code",
   "execution_count": 45,
   "metadata": {},
   "outputs": [],
   "source": [
    "# There exsist 99 movies with movie summaries but no metadata available. These are removed.\n",
    "df[df['genre'].isna()].count()\n",
    "df.dropna(inplace=True)"
   ]
  },
  {
   "cell_type": "code",
   "execution_count": 46,
   "metadata": {},
   "outputs": [
    {
     "data": {
      "text/html": [
       "<div>\n",
       "<style scoped>\n",
       "    .dataframe tbody tr th:only-of-type {\n",
       "        vertical-align: middle;\n",
       "    }\n",
       "\n",
       "    .dataframe tbody tr th {\n",
       "        vertical-align: top;\n",
       "    }\n",
       "\n",
       "    .dataframe thead th {\n",
       "        text-align: right;\n",
       "    }\n",
       "</style>\n",
       "<table border=\"1\" class=\"dataframe\">\n",
       "  <thead>\n",
       "    <tr style=\"text-align: right;\">\n",
       "      <th></th>\n",
       "      <th>id</th>\n",
       "      <th>text</th>\n",
       "      <th>title</th>\n",
       "      <th>genre</th>\n",
       "    </tr>\n",
       "  </thead>\n",
       "  <tbody>\n",
       "    <tr>\n",
       "      <th>0</th>\n",
       "      <td>23890098</td>\n",
       "      <td>shlykov a hardworking taxi driver and lyosha a...</td>\n",
       "      <td>Taxi Blues</td>\n",
       "      <td>[Drama, World cinema]</td>\n",
       "    </tr>\n",
       "    <tr>\n",
       "      <th>1</th>\n",
       "      <td>31186339</td>\n",
       "      <td>the nation of panem consists of a wealthy capi...</td>\n",
       "      <td>The Hunger Games</td>\n",
       "      <td>[Action/Adventure, Science Fiction, Action, Dr...</td>\n",
       "    </tr>\n",
       "    <tr>\n",
       "      <th>2</th>\n",
       "      <td>20663735</td>\n",
       "      <td>poovalli induchoodan is sentenced for six year...</td>\n",
       "      <td>Narasimham</td>\n",
       "      <td>[Musical, Action, Drama, Bollywood]</td>\n",
       "    </tr>\n",
       "    <tr>\n",
       "      <th>3</th>\n",
       "      <td>2231378</td>\n",
       "      <td>the lemon drop kid a new york city swindler is...</td>\n",
       "      <td>The Lemon Drop Kid</td>\n",
       "      <td>[Screwball comedy, Comedy]</td>\n",
       "    </tr>\n",
       "    <tr>\n",
       "      <th>4</th>\n",
       "      <td>595909</td>\n",
       "      <td>seventhday adventist church pastor michael cha...</td>\n",
       "      <td>A Cry in the Dark</td>\n",
       "      <td>[Crime Fiction, Drama, Docudrama, World cinema...</td>\n",
       "    </tr>\n",
       "  </tbody>\n",
       "</table>\n",
       "</div>"
      ],
      "text/plain": [
       "         id                                               text  \\\n",
       "0  23890098  shlykov a hardworking taxi driver and lyosha a...   \n",
       "1  31186339  the nation of panem consists of a wealthy capi...   \n",
       "2  20663735  poovalli induchoodan is sentenced for six year...   \n",
       "3   2231378  the lemon drop kid a new york city swindler is...   \n",
       "4    595909  seventhday adventist church pastor michael cha...   \n",
       "\n",
       "                title                                              genre  \n",
       "0          Taxi Blues                              [Drama, World cinema]  \n",
       "1    The Hunger Games  [Action/Adventure, Science Fiction, Action, Dr...  \n",
       "2          Narasimham                [Musical, Action, Drama, Bollywood]  \n",
       "3  The Lemon Drop Kid                         [Screwball comedy, Comedy]  \n",
       "4   A Cry in the Dark  [Crime Fiction, Drama, Docudrama, World cinema...  "
      ]
     },
     "execution_count": 46,
     "metadata": {},
     "output_type": "execute_result"
    }
   ],
   "source": [
    "# Final dataset\n",
    "df.head()"
   ]
  },
  {
   "cell_type": "code",
   "execution_count": 47,
   "metadata": {},
   "outputs": [],
   "source": [
    "# Saving the final file in pickle format\n",
    "df.to_pickle(\"./Data/MovieSummaries/plots_genres.pkl\")"
   ]
  }
 ],
 "metadata": {
  "kernelspec": {
   "display_name": "NLP_project",
   "language": "python",
   "name": "python3"
  },
  "language_info": {
   "codemirror_mode": {
    "name": "ipython",
    "version": 3
   },
   "file_extension": ".py",
   "mimetype": "text/x-python",
   "name": "python",
   "nbconvert_exporter": "python",
   "pygments_lexer": "ipython3",
   "version": "3.11.5"
  }
 },
 "nbformat": 4,
 "nbformat_minor": 2
}
